{
 "cells": [
  {
   "cell_type": "code",
   "execution_count": 7,
   "metadata": {},
   "outputs": [
    {
     "name": "stdout",
     "output_type": "stream",
     "text": [
      "Extracting MNIST_data/train-images-idx3-ubyte.gz\n",
      "Extracting MNIST_data/train-labels-idx1-ubyte.gz\n",
      "Extracting MNIST_data/t10k-images-idx3-ubyte.gz\n",
      "Extracting MNIST_data/t10k-labels-idx1-ubyte.gz\n",
      "0 0.0698\n",
      "100 0.863\n",
      "200 0.9099\n",
      "300 0.9291\n",
      "400 0.9409\n",
      "500 0.9445\n",
      "600 0.955\n",
      "700 0.9571\n",
      "800 0.9598\n",
      "900 0.9629\n",
      "1000 0.962\n"
     ]
    }
   ],
   "source": [
    "# Code from \"Deep MNIST for Experts\" tensorflow tutorial\n",
    "\n",
    "from __future__ import print_function\n",
    "\n",
    "from tensorflow.examples.tutorials.mnist import input_data\n",
    "mnist = input_data.read_data_sets(\"MNIST_data/\", one_hot=True)\n",
    "\n",
    "import tensorflow as tf\n",
    "\n",
    "def weight_variable(shape):\n",
    "  initial = tf.truncated_normal(shape, stddev=0.1)\n",
    "  return tf.Variable(initial)\n",
    "\n",
    "def bias_variable(shape):\n",
    "  initial = tf.constant(0.1, shape=shape)\n",
    "  return tf.Variable(initial)\n",
    "\n",
    "def conv2d(x, W):\n",
    "  return tf.nn.conv2d(x, W, strides=[1, 1, 1, 1], padding='SAME')\n",
    "\n",
    "def max_pool_2x2(x):\n",
    "  return tf.nn.max_pool(x, ksize=[1, 2, 2, 1],\n",
    "                        strides=[1, 2, 2, 1], padding='SAME')\n",
    "\n",
    "# Input layer\n",
    "x  = tf.placeholder(tf.float32, [None, 784], name='x')\n",
    "y_ = tf.placeholder(tf.float32, [None, 10],  name='y_')\n",
    "x_image = tf.reshape(x, [-1, 28, 28, 1])\n",
    "\n",
    "# Convolutional layer 1\n",
    "W_conv1 = weight_variable([5, 5, 1, 32])\n",
    "b_conv1 = bias_variable([32])\n",
    "\n",
    "h_conv1 = tf.nn.relu(conv2d(x_image, W_conv1) + b_conv1)\n",
    "h_pool1 = max_pool_2x2(h_conv1)\n",
    "\n",
    "# Convolutional layer 2\n",
    "W_conv2 = weight_variable([5, 5, 32, 64])\n",
    "b_conv2 = bias_variable([64])\n",
    "\n",
    "h_conv2 = tf.nn.relu(conv2d(h_pool1, W_conv2) + b_conv2)\n",
    "h_pool2 = max_pool_2x2(h_conv2)\n",
    "\n",
    "# Fully connected layer 1\n",
    "h_pool2_flat = tf.reshape(h_pool2, [-1, 7*7*64])\n",
    "\n",
    "W_fc1 = weight_variable([7 * 7 * 64, 1024])\n",
    "b_fc1 = bias_variable([1024])\n",
    "\n",
    "h_fc1 = tf.nn.relu(tf.matmul(h_pool2_flat, W_fc1) + b_fc1)\n",
    "\n",
    "# Dropout\n",
    "keep_prob  = tf.placeholder(tf.float32)\n",
    "h_fc1_drop = tf.nn.dropout(h_fc1, keep_prob)\n",
    "\n",
    "# Fully connected layer 2 (Output layer)\n",
    "W_fc2 = weight_variable([1024, 10])\n",
    "b_fc2 = bias_variable([10])\n",
    "\n",
    "y = tf.nn.softmax(tf.matmul(h_fc1_drop, W_fc2) + b_fc2, name='y')\n",
    "\n",
    "# Evaluation functions\n",
    "cross_entropy = tf.reduce_mean(-tf.reduce_sum(y_ * tf.log(y), reduction_indices=[1]))\n",
    "\n",
    "correct_prediction = tf.equal(tf.argmax(y, 1), tf.argmax(y_, 1))\n",
    "accuracy = tf.reduce_mean(tf.cast(correct_prediction, tf.float32), name='accuracy')\n",
    "\n",
    "# Training algorithm\n",
    "train_step = tf.train.AdamOptimizer(1e-4).minimize(cross_entropy)\n",
    "\n",
    "# Training steps\n",
    "sess = tf.Session()\n",
    "sess.run(tf.initialize_all_variables())\n",
    "max_steps = 1000\n",
    "for step in range(max_steps):\n",
    "    batch_xs, batch_ys = mnist.train.next_batch(50)\n",
    "    if (step % 100) == 0:\n",
    "        print(step, sess.run(accuracy, feed_dict={x: mnist.test.images, y_: mnist.test.labels, keep_prob: 1.0}))\n",
    "    sess.run(train_step, feed_dict={x: batch_xs, y_: batch_ys, keep_prob: 0.5})\n",
    "print(max_steps, sess.run(accuracy, feed_dict={x: mnist.test.images, y_: mnist.test.labels, keep_prob: 1.0}))"
   ]
  },
  {
   "cell_type": "markdown",
   "metadata": {},
   "source": [
    "The goal is to add noise to images of twos such that they still appear as twos to the human eye but are missclassified as sixes by the model. Therefore we'll need to isolate the twos data. Furthermore we will need these twos to be classified as sixes so that we can harvest the gradients for this missclassification."
   ]
  },
  {
   "cell_type": "code",
   "execution_count": 22,
   "metadata": {},
   "outputs": [],
   "source": [
    "# Get twos labels as sixes data\n",
    "two_images = []\n",
    "two_labels = []\n",
    "six_labels = []\n",
    "six_label = [0.0] * 10\n",
    "six_label[6] = 1.0\n",
    "for i in range(len(mnist.train.images)):\n",
    "    if mnist.train.labels[i][2]==1.0:\n",
    "        two_images.append(mnist.train.images[i])\n",
    "        two_labels.append(mnist.train.labels[i])\n",
    "        six_labels.append(six_label)"
   ]
  },
  {
   "cell_type": "markdown",
   "metadata": {},
   "source": [
    "Now that we have the desired data we next need a way to get the derivative of the error with respect to the pixels in our image. Tensorflow has a built-in for this."
   ]
  },
  {
   "cell_type": "code",
   "execution_count": 23,
   "metadata": {},
   "outputs": [],
   "source": [
    "# Get the gradient of the error with respect to the pixels\n",
    "grad = tf.gradients(cross_entropy, [x])[0]"
   ]
  },
  {
   "cell_type": "markdown",
   "metadata": {},
   "source": [
    "Now that we have a bunch of twos labelled as sixes and an easy way to get gradients we're ready to actually compute our gradients. This will give us an image that we can then add to our original images to produce adversarial images."
   ]
  },
  {
   "cell_type": "code",
   "execution_count": 24,
   "metadata": {},
   "outputs": [
    {
     "name": "stdout",
     "output_type": "stream",
     "text": [
      "[ 1.18478247e-05 -1.96023302e-05  8.35524770e-06 -4.14494525e-06\n",
      " -2.00623181e-05  1.08351533e-05 -4.46160675e-06 -3.41317491e-06\n",
      "  3.13715173e-05 -2.40116133e-05  1.68744900e-05  3.90736705e-06\n",
      "  1.39635322e-05  2.43292834e-05 -3.79082007e-06  4.36382288e-06\n",
      " -1.80395691e-05 -4.63045154e-07  1.68247479e-05  4.96274561e-06\n",
      " -6.42385112e-06  1.12268744e-05 -2.95540176e-05  1.42499448e-05\n",
      "  1.47808896e-05  4.52385990e-07  2.55029863e-06 -3.68497876e-06\n",
      " -1.23171840e-05 -3.92333732e-06 -3.20376421e-05 -3.50429241e-06\n",
      " -3.08746166e-05 -2.68998301e-05 -1.79199233e-05  1.64402154e-05\n",
      " -3.26587069e-05  3.38586033e-05 -3.34161887e-05  4.46312406e-05\n",
      "  8.15602561e-06  8.58777184e-06  6.98521671e-06 -6.72475835e-07\n",
      " -5.20235471e-06 -2.11445627e-06 -1.32405548e-05  8.85768713e-06\n",
      " -3.04131445e-05  3.92428228e-06 -1.03301418e-05 -7.71838586e-07\n",
      " -7.95422329e-06 -7.95421329e-06 -3.19123205e-06  3.78725526e-05\n",
      " -7.16909426e-06  5.82869598e-06  1.37802426e-05 -3.95305278e-06\n",
      " -4.17209194e-05  2.21620430e-05  2.48593096e-05  4.34264939e-06\n",
      "  4.25474391e-05  2.32941293e-05  4.17056544e-05  2.63085039e-05\n",
      "  5.57587082e-05  2.12660707e-05  1.60979562e-05  5.93274081e-06\n",
      " -3.62481005e-05 -6.64564550e-06 -3.80306956e-05 -2.06867662e-06\n",
      " -6.97064752e-05  7.11023347e-07 -2.65381750e-05 -1.02718441e-05\n",
      "  5.50772211e-06  6.48889090e-06  2.17057514e-05  8.15890235e-06\n",
      "  1.77894781e-05 -2.52570453e-06 -1.63204804e-05 -2.51922461e-06\n",
      "  1.99080478e-05  4.11052715e-05  1.31378447e-05  2.00471732e-05\n",
      " -6.70555528e-06  2.79959713e-05  4.83555368e-06  2.44328185e-05\n",
      "  1.20952409e-05  2.39761885e-05  1.38827227e-05 -7.73858937e-06\n",
      " -1.82209133e-05 -2.51292859e-05 -2.22605431e-05 -1.27447493e-05\n",
      " -1.15510165e-05  1.01708133e-06  2.52111022e-05  8.68037750e-06\n",
      "  9.82288293e-06 -3.09007191e-05  2.61559126e-05  1.54573058e-06\n",
      " -5.30758371e-07 -8.51437017e-06  2.96697108e-05 -2.43192935e-05\n",
      "  1.79531653e-05  5.73645309e-07  3.95876050e-05 -4.10510393e-06\n",
      "  4.58810391e-05  4.20548022e-05  5.04717318e-05  4.50903899e-05\n",
      "  6.93125403e-05  5.17100052e-05  2.59499466e-05  1.85658046e-05\n",
      "  1.93455594e-06 -1.07317028e-05 -7.63365460e-06 -2.23838033e-05\n",
      "  8.42102600e-06 -3.15583457e-05  2.83701975e-05 -5.70505799e-05\n",
      "  1.78610771e-05 -3.56224009e-05  3.22381929e-05  2.27420278e-05\n",
      " -3.14845738e-06 -5.43424540e-06 -8.30124281e-06 -9.67675874e-07\n",
      " -4.64850564e-05  7.56028248e-06 -1.02936128e-05  1.11493655e-07\n",
      "  3.76961202e-06  2.00874092e-05  1.71442789e-05  3.97121439e-05\n",
      "  2.57697557e-05  5.94477169e-05  5.86548558e-05  3.29559625e-05\n",
      "  2.36994601e-05  2.32105253e-06  1.27647691e-05 -1.10337769e-05\n",
      "  1.38935429e-05 -8.54765460e-07  1.28717311e-05  2.28277549e-05\n",
      " -3.31711199e-05 -1.18497373e-05 -9.96261952e-06 -1.24032358e-05\n",
      "  8.50011565e-06 -7.19292075e-06  2.95526770e-05  1.85121626e-05\n",
      " -5.16164528e-06 -2.57327383e-06  2.59478638e-05  1.98164980e-05\n",
      "  2.56949006e-05  4.27798077e-05  2.37828572e-05  4.24491809e-05\n",
      "  3.67777830e-05  3.16579426e-05  6.12468793e-05  4.10247667e-05\n",
      "  4.17120682e-05  3.31272167e-05  2.91636752e-05  1.84818673e-05\n",
      "  2.82312631e-05  5.27697750e-07  4.87902144e-05 -1.43136303e-05\n",
      "  1.57674876e-05 -3.02198714e-05  1.71264437e-05 -3.49344236e-06\n",
      " -1.66546797e-05 -3.17596869e-06 -7.64195374e-06  7.19158425e-06\n",
      " -1.62081378e-05 -7.36383026e-06  8.17212003e-06  1.76050926e-05\n",
      "  1.99247552e-05  6.08201981e-06 -2.51650386e-06  4.96003895e-06\n",
      "  1.21378989e-05  1.93687301e-05  3.08228773e-05  1.24757271e-05\n",
      "  3.35855184e-05  2.66266907e-05  4.29892607e-05  2.37047734e-05\n",
      "  1.60482978e-05  2.95178279e-06  6.27356803e-06  4.74541957e-06\n",
      " -8.99630959e-06  8.36392610e-06 -1.69954546e-05  8.54485097e-06\n",
      " -6.80800349e-06  1.27440899e-05 -3.93497612e-05  5.45640141e-05\n",
      " -9.14028351e-06 -2.40523627e-06  1.31706865e-05  1.20204659e-05\n",
      "  1.26765935e-05  7.91597904e-06 -1.71612119e-05 -3.30262947e-06\n",
      " -1.05735689e-05 -1.50929418e-05  1.50431897e-05  3.77808356e-05\n",
      "  3.39220678e-05  4.17656083e-05  4.23991041e-05  3.24716711e-05\n",
      "  3.45265289e-05 -1.64312278e-05  3.70361704e-05  3.14699428e-05\n",
      "  1.93629076e-05  9.61089881e-06  3.66911408e-05  5.22428672e-06\n",
      " -1.97257687e-05  1.52420289e-05  5.41341569e-06  7.57855287e-06\n",
      "  3.22323394e-05 -1.16282181e-05 -4.84033421e-07  3.49451739e-06\n",
      "  8.28873181e-06 -6.90222942e-06 -2.26355569e-05 -2.11000061e-05\n",
      "  1.59742206e-06 -2.80191614e-07  2.01852686e-06  9.74487557e-06\n",
      "  3.39709331e-05  3.52063726e-05  4.42526980e-05  3.33219614e-05\n",
      "  2.79678206e-05  1.14959166e-05 -5.39340772e-06 -8.37890002e-06\n",
      " -2.24483683e-05 -2.89211130e-05 -8.16130978e-06  1.41213950e-05\n",
      "  2.48984179e-06 -7.42935117e-06 -1.36137814e-05  9.20315870e-07\n",
      " -5.19412379e-06 -1.05218805e-05 -3.77766410e-05 -1.19286342e-05\n",
      " -2.87596358e-05 -2.24931373e-05 -4.01188081e-05 -4.01272628e-05\n",
      " -1.37376474e-05 -3.85767817e-05 -9.32777311e-06 -1.51234281e-05\n",
      "  1.34200127e-05  2.11289644e-05  6.71462694e-05  1.27004596e-05\n",
      "  1.50457308e-05 -9.14444718e-06 -3.74133060e-06  2.08495640e-05\n",
      "  5.30569778e-05 -2.38052689e-05  1.65418332e-05  1.00587849e-05\n",
      " -2.48724700e-05  6.20583648e-07  1.54915269e-05  3.47547893e-06\n",
      "  2.43155919e-05 -1.18564321e-05 -5.88133807e-05 -3.74481315e-05\n",
      " -7.13374902e-05 -5.31480837e-05 -6.31096482e-05 -5.52372039e-05\n",
      " -3.34596516e-05 -4.81020179e-05 -1.97273475e-05 -2.57176671e-05\n",
      "  7.79473248e-06  1.28950642e-05  4.03487502e-05  1.31397446e-05\n",
      " -7.50152185e-06 -5.09967322e-06 -3.14637800e-05 -1.99623482e-05\n",
      " -2.98612358e-05 -1.52491484e-05 -2.71444460e-05  1.28226129e-05\n",
      " -1.08817530e-05 -1.05867741e-06  5.89527872e-06 -2.92667246e-05\n",
      " -7.22024561e-05 -2.09451791e-05 -8.00252456e-05 -2.70351356e-05\n",
      " -6.08240225e-05 -3.84582127e-05 -3.74312040e-05 -4.43797653e-05\n",
      " -4.66780257e-05 -5.70201446e-05 -2.34954041e-05 -3.44253749e-05\n",
      " -8.63739751e-06  6.44767113e-07  1.74192319e-05  1.03678822e-05\n",
      " -4.46667354e-06 -1.80939605e-05 -5.71149467e-05  1.11035588e-05\n",
      " -3.42178537e-05 -3.95411298e-05 -2.32407501e-06  7.64402193e-06\n",
      " -1.15273554e-06 -2.96608159e-05 -1.37093029e-05 -1.55156540e-05\n",
      " -3.89373890e-05 -8.93045672e-06 -4.08434498e-05 -3.39420512e-05\n",
      " -3.22060805e-05 -4.68869912e-05 -4.84721386e-05 -5.23670169e-05\n",
      " -3.93489245e-05 -5.56351188e-05 -2.71068166e-05 -3.26647241e-05\n",
      " -2.75468174e-05 -1.06054422e-05 -1.25822371e-05 -6.70489680e-06\n",
      " -2.50389367e-05 -2.64036426e-05 -2.38987250e-05 -3.41740792e-06\n",
      " -8.78711489e-06  1.02533716e-06 -5.02282001e-06 -3.46461047e-06\n",
      " -1.41308910e-05 -2.20186757e-05 -2.11486690e-06 -5.61898669e-05\n",
      " -1.87533278e-05 -4.71624298e-05 -3.40068545e-05 -2.88318479e-05\n",
      " -2.73551977e-05 -1.66660193e-05 -1.70639796e-05  7.33774505e-06\n",
      "  1.16369358e-06 -1.16441461e-05 -1.05242098e-05 -1.27936100e-05\n",
      " -1.66771624e-05 -1.80456718e-05 -3.58456055e-05 -1.48765166e-05\n",
      " -3.66668064e-05 -1.06921589e-05 -5.59946238e-05 -8.80795415e-06\n",
      " -3.19803730e-05 -2.49102209e-06  2.76594110e-05 -5.65140863e-06\n",
      "  1.83638676e-05 -3.31881620e-06 -1.26995556e-05 -2.13233598e-05\n",
      " -4.96076718e-05 -2.31588892e-05 -2.57912379e-05 -2.02105166e-05\n",
      " -2.22561575e-05 -1.88518588e-05 -2.08033052e-05 -1.06607085e-05\n",
      "  1.81247106e-05 -1.15574812e-05 -7.55844258e-06 -8.93907509e-06\n",
      " -6.73483646e-06 -1.29914069e-05 -3.07737246e-05 -2.42469796e-05\n",
      " -3.77156575e-05 -4.18479758e-05 -3.43956017e-05 -1.65186812e-05\n",
      "  9.23105915e-07  8.49789649e-06 -1.18539156e-05 -1.18034916e-06\n",
      "  4.60176307e-06 -9.75081730e-06 -7.72674957e-06 -3.39104809e-05\n",
      " -4.29849069e-06 -1.41529904e-06 -2.93019493e-05 -2.07893322e-06\n",
      " -2.25376298e-05  2.96691042e-06 -2.37262229e-05  6.27922418e-06\n",
      "  7.50405798e-06  5.54422286e-06 -1.11358331e-05 -5.31913702e-06\n",
      " -2.03441305e-05 -2.54679617e-05 -3.41212581e-05 -2.59074604e-05\n",
      " -4.00937097e-05 -2.30234200e-05 -3.51169620e-05 -2.07842913e-05\n",
      "  1.84437577e-05  2.87744551e-05  2.27896890e-05  1.64191824e-05\n",
      "  5.14069279e-06  6.70002328e-06 -2.10200033e-05  1.49447806e-05\n",
      " -3.86623833e-05  1.20980703e-05 -1.19525725e-06  9.47584340e-06\n",
      " -1.77014063e-05 -4.55889040e-06 -4.57093392e-06  1.11028194e-05\n",
      "  8.60047840e-06  1.39885988e-05  7.79553648e-06  9.95802020e-06\n",
      " -6.51459277e-06 -1.69614941e-05 -2.02150495e-05 -1.70204312e-05\n",
      " -2.16048738e-05 -1.43167008e-05  1.51712466e-05 -1.09685034e-05\n",
      "  1.84666624e-05  2.00745126e-05  1.15387811e-05  1.80069164e-05\n",
      " -3.35510572e-06 -1.07901951e-05  1.31154875e-05  1.29763851e-06\n",
      "  2.77810682e-06  1.30115741e-05  2.30744608e-05  1.28508855e-05\n",
      "  2.87227817e-06  8.20864898e-06 -9.85319548e-06 -1.34162906e-06\n",
      " -1.72418947e-06  7.72824819e-07  4.11522205e-06  1.00910438e-05\n",
      " -4.25510507e-06  6.04423985e-06 -1.26788900e-05 -1.08389386e-05\n",
      " -6.45533282e-06 -2.89316049e-05  1.26213818e-05  5.26169231e-07\n",
      "  2.20917173e-05  1.31734387e-05  2.50167941e-05  1.77427264e-05\n",
      "  8.59697593e-06  3.82761982e-06  1.34027150e-05  2.40962127e-05\n",
      "  7.87007230e-06  2.53898834e-05  2.38519515e-05  3.42918756e-05\n",
      "  2.12215346e-05  7.47490594e-06 -1.62112210e-05 -1.61975313e-05\n",
      " -1.80725292e-05 -1.53378260e-05 -1.31601228e-05  2.68798385e-06\n",
      " -2.00449595e-05 -8.13938459e-06 -5.23687231e-06 -1.17829486e-05\n",
      "  3.88016952e-06 -3.83617089e-06  1.70707153e-05  5.42188081e-06\n",
      "  2.52536811e-05  7.32543003e-06  1.28614984e-05  2.03754262e-05\n",
      "  2.49600962e-05  3.80738311e-05  4.58906798e-05  1.61385233e-05\n",
      "  3.90031128e-05  2.55969007e-05  6.11756986e-05  6.94681949e-05\n",
      "  5.49090946e-05  3.04641580e-05 -3.72377258e-06 -1.86645793e-05\n",
      " -2.87564289e-05 -3.21748230e-05 -3.73153634e-05 -1.50912765e-05\n",
      " -3.32087038e-05 -9.29682665e-06 -1.47236960e-06  3.11778831e-06\n",
      "  2.89818599e-05  9.93064873e-07  4.00947283e-05 -5.20266985e-06\n",
      "  3.36099947e-05 -2.65149101e-05 -4.15737986e-06  1.49438893e-05\n",
      " -1.94307613e-05 -1.29385735e-05 -1.95621324e-05  1.22006040e-05\n",
      "  2.17549399e-07  3.54296135e-05  4.86079152e-05  5.93831937e-05\n",
      "  4.33768400e-05  3.10852702e-05 -1.79071912e-06 -1.10162564e-05\n",
      " -2.21077516e-05 -4.14697752e-05 -3.85350468e-05 -1.23245791e-05\n",
      " -2.28153694e-05 -7.43209648e-06 -6.55814529e-06 -6.75596630e-06\n",
      "  2.14120064e-05  2.25704298e-06  1.32030291e-05 -3.46485172e-06\n",
      "  6.70117743e-06  3.37378469e-06 -2.86140084e-06 -2.59139961e-05\n",
      "  3.33488606e-05  3.28376045e-05 -1.13479609e-06 -4.29568863e-05\n",
      "  1.35539740e-05  2.19970352e-05  4.25471117e-05  5.33495404e-05\n",
      "  6.71832968e-05  5.23317030e-05  1.43529678e-05 -5.57275007e-06\n",
      " -3.47281748e-05 -1.52831763e-05 -3.22194282e-05 -6.45259388e-06\n",
      " -2.51916299e-05  7.25513519e-06 -2.51297952e-05  8.38983397e-06\n",
      " -5.79248172e-06 -1.42042727e-05  1.29392056e-05 -6.15636372e-06\n",
      "  5.10623977e-07  5.67012466e-06 -1.32167715e-05 -2.61799123e-05\n",
      "  1.01630394e-05 -2.64929372e-06 -1.97666322e-05 -7.12237761e-06\n",
      " -2.00646832e-06  2.35679454e-05  2.58863711e-05  2.77197305e-05\n",
      "  1.86214074e-05  2.79237483e-05  1.64936064e-05  1.39765634e-05\n",
      " -2.01454914e-05 -1.49351017e-05 -7.80028313e-06 -3.09613574e-06\n",
      " -5.52645952e-06 -7.45730404e-06 -2.06863733e-05 -2.14585325e-05\n",
      " -7.74621913e-06 -2.25141739e-05  1.83974146e-06 -1.94123841e-05\n",
      " -4.00839008e-06  2.52192294e-05 -2.81519679e-05 -2.12857376e-05\n",
      "  3.93580535e-07 -1.19601573e-05 -2.68010317e-05 -2.40587524e-05\n",
      "  1.56260721e-05  1.81235991e-05  1.63703999e-06 -2.44787334e-05\n",
      " -1.65284564e-05 -8.50140259e-06 -3.38307036e-05 -6.15688759e-06\n",
      "  9.55465202e-06 -8.51734512e-06  1.86131965e-05 -2.85461156e-05\n",
      "  2.40529589e-05 -1.42944182e-05 -1.47802384e-05 -7.92631272e-06\n",
      " -5.21435613e-05 -1.19054066e-05 -4.89960912e-05 -4.64840878e-06\n",
      " -1.67024646e-05  1.91209947e-05  2.54218248e-05 -3.35410077e-05\n",
      "  1.44004498e-05 -9.01436670e-06  2.34998170e-05 -2.22651488e-05\n",
      "  6.89226363e-06 -6.18721424e-06 -2.29599736e-05  1.06416428e-05\n",
      " -4.63900979e-05 -3.32723994e-06 -2.99050976e-06 -2.16340004e-06\n",
      " -2.35472544e-05 -1.20402046e-06 -2.03283162e-05 -3.97655140e-06\n",
      "  5.26014901e-06  6.98162296e-07 -1.01820697e-05 -8.03916191e-06\n",
      " -9.83559971e-07 -1.79369781e-05 -3.42970743e-05  7.82159987e-06\n",
      "  9.93817685e-06  1.24134385e-05  1.26990517e-05  1.04629107e-05\n",
      " -2.90318840e-05  2.60468187e-06 -2.11184251e-05 -2.65287035e-05\n",
      " -9.42797942e-06 -4.47491720e-06 -1.29336449e-05 -1.53748097e-05\n",
      " -5.95952515e-05 -3.25472283e-05  5.98474207e-06 -1.00399175e-05\n",
      "  4.37520612e-05 -8.88591421e-06  2.73069018e-05 -2.85868609e-05\n",
      "  1.62831511e-05 -2.31122772e-06  1.01803007e-05  2.27703113e-05\n",
      " -1.37614379e-05  7.63163553e-06 -1.60515519e-05  5.11145663e-06\n",
      "  1.34088041e-05 -4.57156284e-06  1.50886144e-05  2.49874711e-06\n",
      "  1.62672877e-05  2.02690543e-07  3.97365238e-06 -7.72031490e-06\n",
      " -3.69591544e-05 -1.49152229e-05 -2.68384083e-05  1.16557976e-05\n",
      " -8.64666890e-06  4.11091605e-06 -6.32092360e-06  1.08918730e-05\n",
      "  1.57706636e-05  1.58640159e-05  1.86492744e-05  1.21004787e-05\n",
      " -6.75343108e-06 -3.19939340e-06 -9.01534713e-06  2.76247351e-06\n",
      "  7.66418998e-06  2.36550704e-06  8.44256704e-07 -3.18177899e-06\n",
      "  1.16210522e-05  6.57477722e-06  7.90784907e-06  8.96879646e-06]\n"
     ]
    }
   ],
   "source": [
    "# Compute delta, the gradient image to be added\n",
    "import numpy as np\n",
    "delta = sess.run(grad, feed_dict={x: two_images, y_: six_labels, keep_prob: 1.0})\n",
    "delta = np.mean(delta, axis=0)\n",
    "print(delta)"
   ]
  },
  {
   "cell_type": "markdown",
   "metadata": {},
   "source": [
    "We see that the gradients are tiny. We scale them up by referring to images of the scaled up gradient images added to the original images. Note that adversarial images still look like twos."
   ]
  },
  {
   "cell_type": "code",
   "execution_count": 34,
   "metadata": {},
   "outputs": [
    {
     "data": {
      "image/png": "[encoded data removed]",
      "text/plain": [
       "<Figure size 432x288 with 1 Axes>"
      ]
     },
     "metadata": {},
     "output_type": "display_data"
    },
    {
     "data": {
      "image/png": "[encoded data removed]",
      "text/plain": [
       "<Figure size 432x288 with 1 Axes>"
      ]
     },
     "metadata": {},
     "output_type": "display_data"
    },
    {
     "data": {
      "image/png": "[encoded data removed]",
      "text/plain": [
       "<Figure size 432x288 with 1 Axes>"
      ]
     },
     "metadata": {},
     "output_type": "display_data"
    },
    {
     "data": {
      "image/png": "[encoded data removed]",
      "text/plain": [
       "<Figure size 432x288 with 1 Axes>"
      ]
     },
     "metadata": {},
     "output_type": "display_data"
    },
    {
     "data": {
      "text/plain": [
       "<Figure size 432x288 with 0 Axes>"
      ]
     },
     "metadata": {},
     "output_type": "display_data"
    }
   ],
   "source": [
    "import matplotlib.pyplot as plt\n",
    "for i in range(4):\n",
    "    plt.imshow(np.reshape(two_images[i] - 10000.0 * delta, (28,28)), cmap='gray')\n",
    "    plt.figure()\n",
    "plt.show()\n",
    "delta *= 10000.0"
   ]
  },
  {
   "cell_type": "code",
   "execution_count": null,
   "metadata": {},
   "outputs": [],
   "source": []
  }
 ],
 "metadata": {
  "kernelspec": {
   "display_name": "Python 3",
   "language": "python",
   "name": "python3"
  },
  "language_info": {
   "codemirror_mode": {
    "name": "ipython",
    "version": 3
   },
   "file_extension": ".py",
   "mimetype": "text/x-python",
   "name": "python",
   "nbconvert_exporter": "python",
   "pygments_lexer": "ipython3",
   "version": "3.6.5"
  }
 },
 "nbformat": 4,
 "nbformat_minor": 2
}
